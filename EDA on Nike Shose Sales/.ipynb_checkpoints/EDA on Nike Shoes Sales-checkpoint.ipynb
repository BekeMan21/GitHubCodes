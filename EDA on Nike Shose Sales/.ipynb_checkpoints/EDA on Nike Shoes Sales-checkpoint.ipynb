{
 "cells": [
  {
   "cell_type": "code",
   "execution_count": 3,
   "id": "fb66828b",
   "metadata": {},
   "outputs": [],
   "source": [
    "import numpy as np\n",
    "import pandas as pd"
   ]
  },
  {
   "cell_type": "code",
   "execution_count": 4,
   "id": "9183b68b",
   "metadata": {},
   "outputs": [],
   "source": [
    "df = pd.read_csv(\"nike_shoes_sales.csv\")"
   ]
  },
  {
   "cell_type": "code",
   "execution_count": 10,
   "id": "a62c6980",
   "metadata": {},
   "outputs": [
    {
     "name": "stdout",
     "output_type": "stream",
     "text": [
      "<class 'pandas.core.frame.DataFrame'>\n",
      "RangeIndex: 643 entries, 0 to 642\n",
      "Data columns (total 10 columns):\n",
      " #   Column         Non-Null Count  Dtype  \n",
      "---  ------         --------------  -----  \n",
      " 0   product_name   643 non-null    object \n",
      " 1   product_id     643 non-null    object \n",
      " 2   listing_price  643 non-null    int64  \n",
      " 3   sale_price     643 non-null    int64  \n",
      " 4   discount       643 non-null    int64  \n",
      " 5   brand          643 non-null    object \n",
      " 6   description    640 non-null    object \n",
      " 7   rating         643 non-null    float64\n",
      " 8   reviews        643 non-null    int64  \n",
      " 9   images         572 non-null    object \n",
      "dtypes: float64(1), int64(4), object(5)\n",
      "memory usage: 50.4+ KB\n"
     ]
    }
   ],
   "source": [
    "df.info()"
   ]
  },
  {
   "cell_type": "code",
   "execution_count": null,
   "id": "d46aa4c0",
   "metadata": {},
   "outputs": [],
   "source": []
  }
 ],
 "metadata": {
  "kernelspec": {
   "display_name": "Python 3 (ipykernel)",
   "language": "python",
   "name": "python3"
  },
  "language_info": {
   "codemirror_mode": {
    "name": "ipython",
    "version": 3
   },
   "file_extension": ".py",
   "mimetype": "text/x-python",
   "name": "python",
   "nbconvert_exporter": "python",
   "pygments_lexer": "ipython3",
   "version": "3.9.13"
  }
 },
 "nbformat": 4,
 "nbformat_minor": 5
}
